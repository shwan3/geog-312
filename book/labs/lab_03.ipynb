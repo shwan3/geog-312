{
 "cells": [
  {
   "cell_type": "markdown",
   "id": "0",
   "metadata": {},
   "source": [
    "# Lab 3\n",
    "\n",
    "[![Open In Colab](https://colab.research.google.com/assets/colab-badge.svg)](https://colab.research.google.com/github/giswqs/geog-312/blob/main/book/labs/lab_03.ipynb)\n",
    "\n",
    "This notebook contains exercises based on the lectures on [**Functions and Classes**](https://geog-312.gishub.org/book/python/06_functions_classes.html) and [**Files and Exception Handling**](https://geog-312.gishub.org/book/python/07_files.html). These exercises will help reinforce the concepts of functions, classes, file handling, and exception management in geospatial contexts."
   ]
  },
  {
   "cell_type": "markdown",
   "id": "1",
   "metadata": {},
   "source": [
    "## Exercise 1: Calculating Distances with Functions\n",
    "\n",
    "- Define a function `calculate_distance` that takes two geographic coordinates (latitude and longitude) and returns the distance between them using the Haversine formula.\n",
    "- Use this function to calculate the distance between multiple pairs of coordinates."
   ]
  },
  {
   "cell_type": "code",
   "execution_count": 111,
   "id": "2",
   "metadata": {},
   "outputs": [
    {
     "name": "stdout",
     "output_type": "stream",
     "text": [
      "Distance between (40.7128, -74.006) and (34.0522, -118.2437): 2735.2027265788597km\n",
      "Distance between (40.7128, -74.006) and (41.8781, -87.6298): 9322.791387216346km\n",
      "Distance between (40.7128, -74.006) and (29.7604, -95.3698): 20015.086796020572km\n",
      "Distance between (40.7128, -74.006) and (33.4484, -112.074): 6572.167622598112km\n",
      "Distance between (34.0522, -118.2437) and (41.8781, -87.6298): 11030.784826117302km\n",
      "Distance between (34.0522, -118.2437) and (29.7604, -95.3698): 20015.086796020572km\n",
      "Distance between (34.0522, -118.2437) and (33.4484, -112.074): 3896.428606701187km\n",
      "Distance between (41.8781, -87.6298) and (29.7604, -95.3698): 7877.273328193571km\n",
      "Distance between (41.8781, -87.6298) and (33.4484, -112.074): 14823.658241045034km\n",
      "Distance between (29.7604, -95.3698) and (33.4484, -112.074): 20015.086796020572km\n"
     ]
    }
   ],
   "source": [
    "from math import radians, sin, cos, sqrt, atan2\n",
    "\n",
    "def calculate_distance(lat1, lon1, lat2, lon2):\n",
    "    R = 6371.0\n",
    "    dlat = (lat2 - lat1)\n",
    "    dlon = (lon2 - lon1)\n",
    "    a= (\n",
    "        sin(dlat /2)**2\n",
    "        + cos(radians(lat1)) * cos(radians(lat2)) * sin(dlon /2)** 2\n",
    "    )\n",
    "\n",
    "    a = max(0, min(1, a))\n",
    "\n",
    "    c= 2 * atan2(sqrt(a), sqrt(1 - a))\n",
    "    distance = R * c\n",
    "    return distance\n",
    "\n",
    "coordinates = [\n",
    "    (40.7128, -74.0060),\n",
    "    (34.0522, -118.2437),\n",
    "    (41.8781, -87.6298),\n",
    "    (29.7604, -95.3698),\n",
    "    (33.4484, -112.0740),\n",
    "]\n",
    "\n",
    "for i in range(len(coordinates)):\n",
    "    for j in range(i+1, len(coordinates)):\n",
    "        lat1, lon1 = coordinates[i]\n",
    "        lat2, lon2 = coordinates[j]\n",
    "        distance = calculate_distance(lat1, lon1, lat2, lon2)\n",
    "        print(f'Distance between {coordinates[i]} and {coordinates[j]}: {distance}km')\n",
    "\n"
   ]
  },
  {
   "cell_type": "markdown",
   "id": "3",
   "metadata": {},
   "source": [
    "## Exercise 2: Batch Distance Calculation\n",
    "\n",
    "- Create a function `batch_distance_calculation` that accepts a list of coordinate pairs and returns a list of distances between consecutive pairs.\n",
    "- Test the function with a list of coordinates representing several cities."
   ]
  },
  {
   "cell_type": "code",
   "execution_count": 112,
   "id": "4",
   "metadata": {},
   "outputs": [
    {
     "name": "stdout",
     "output_type": "stream",
     "text": [
      "Distances: [2735.2027265788597, 11030.784826117302, 7877.273328193571, 20015.086796020572]\n"
     ]
    }
   ],
   "source": [
    "def batch_distance_calculation(coordinate_list):\n",
    "    distances=[]\n",
    "    for i in range(len(coordinate_list)-1):\n",
    "        lat1, lon1 = coordinate_list[i]\n",
    "        lat2, lon2 = coordinate_list[i+1]\n",
    "        distance = calculate_distance(lat1, lon1, lat2, lon2)\n",
    "        distances.append(distance)\n",
    "    return(distances)\n",
    "\n",
    "    coordinates = [\n",
    "    (40.7128, -74.0060),\n",
    "    (34.0522, -118.2437),\n",
    "    (41.8781, -87.6298),\n",
    "    (29.7604, -95.3698),\n",
    "    (33.4484, -112.0740),\n",
    "]\n",
    "\n",
    "distances = batch_distance_calculation(coordinates)\n",
    "\n",
    "print(f'Distances: {distances}')"
   ]
  },
  {
   "cell_type": "markdown",
   "id": "5",
   "metadata": {},
   "source": [
    "## Exercise 3: Creating and Using a Point Class\n",
    "\n",
    "- Define a `Point` class to represent a geographic point with attributes `latitude`, `longitude`, and `name`.\n",
    "- Add a method `distance_to` that calculates the distance from one point to another.\n",
    "- Instantiate several `Point` objects and calculate the distance between them."
   ]
  },
  {
   "cell_type": "code",
   "execution_count": 113,
   "id": "6",
   "metadata": {},
   "outputs": [
    {
     "name": "stdout",
     "output_type": "stream",
     "text": [
      "Distance from New York City to Los Angeles: 2735.20km\n"
     ]
    }
   ],
   "source": [
    "class Point:\n",
    "    def __init__(self, latitude, longitude, name = None):\n",
    "        self.latitude = latitude\n",
    "        self.longitude = longitude\n",
    "        self.name = name\n",
    "    \n",
    "    def distance_to (self, other_point):\n",
    "        return calculate_distance(\n",
    "            self.latitude, self.longitude, other_point.latitude, other_point.longitude\n",
    "        )\n",
    "    def __str__(self):\n",
    "        return(f\"{self.name or 'Point'}({self.latitude}, {self.longitude})\")\n",
    "\n",
    "point1 = Point(40.7128, -74.0060, 'New York City')\n",
    "point2 = Point(34.0522, -118.2437, 'Los Angeles')\n",
    "point3 = Point(41.8781, -87.6298, 'Chicago')\n",
    "\n",
    "print(f\"Distance from {point1.name} to {point2.name}: {point1.distance_to(point2):.2f}km\")"
   ]
  },
  {
   "cell_type": "markdown",
   "id": "7",
   "metadata": {},
   "source": [
    "## Exercise 4: Reading and Writing Files\n",
    "\n",
    "- Write a function `read_coordinates` that reads a file containing a list of coordinates (latitude, longitude) and returns them as a list of tuples.\n",
    "- Write another function `write_coordinates` that takes a list of coordinates and writes them to a new file.\n",
    "- Ensure that both functions handle exceptions, such as missing files or improperly formatted data."
   ]
  },
  {
   "cell_type": "code",
   "execution_count": 114,
   "id": "8",
   "metadata": {},
   "outputs": [
    {
     "name": "stdout",
     "output_type": "stream",
     "text": [
      "Coordinates file 'coordinates.txt' has been created successfully.\n"
     ]
    }
   ],
   "source": [
    "#Create a coordinates file\n",
    "\n",
    "coordinates = \"\"\"\n",
    "    40.7128, -74.0060\n",
    "    34.0522, -118.2437\n",
    "    41.8781, -87.6298\n",
    "    29.7604, -95.3698\n",
    "    33.4484, -112.0740\n",
    "\"\"\"\n",
    "output_file = \"coordinates.txt\"\n",
    "\n",
    "try:\n",
    "    with open(output_file, \"w\") as file:\n",
    "        for line in coordinates.strip().split(\"\\n\"):\n",
    "            file.write(line.strip() + \"\\n\")\n",
    "    print(f\"Coordinates file '{output_file}' has been created successfully.\")\n",
    "except Exception as e:\n",
    "    print(f\"An error occurred while creating the file: {e}\")\n",
    "\n",
    "            "
   ]
  },
  {
   "cell_type": "code",
   "execution_count": 115,
   "id": "6c4dfe1d",
   "metadata": {},
   "outputs": [
    {
     "name": "stdout",
     "output_type": "stream",
     "text": [
      "Coordinates have been appended\n"
     ]
    },
    {
     "data": {
      "text/plain": [
       "[(40.7128, -74.006),\n",
       " (34.0522, -118.2437),\n",
       " (41.8781, -87.6298),\n",
       " (29.7604, -95.3698),\n",
       " (33.4484, -112.074)]"
      ]
     },
     "execution_count": 115,
     "metadata": {},
     "output_type": "execute_result"
    }
   ],
   "source": [
    "in_file = \"coordinates.txt\"\n",
    "\n",
    "def read_coordinates(in_file):\n",
    "    coordinates = []\n",
    "    try:\n",
    "        with open(in_file, \"r\") as infile:\n",
    "            for line in infile:\n",
    "                lat, lon = (float(value.strip(\"'\").strip()) for value in line.strip().split(\",\"))\n",
    "                coordinates.append((lat, lon))\n",
    "                \n",
    "        print(\"Coordinates have been appended\")            \n",
    "        return coordinates\n",
    "\n",
    "    except FileNotFoundError:\n",
    "        print(f\"Error: The file {in_file} was not found.\")\n",
    " \n",
    "                \n",
    "read_coordinates(in_file)\n"
   ]
  },
  {
   "cell_type": "code",
   "execution_count": 116,
   "id": "1f512880",
   "metadata": {},
   "outputs": [
    {
     "name": "stdout",
     "output_type": "stream",
     "text": [
      "Coordinates have been written to coordinates.txt\n"
     ]
    }
   ],
   "source": [
    "\n",
    "def write_coordinates(in_file):\n",
    "    try:\n",
    "        with open(input_file, \"r\") as infile:\n",
    "            coordinates = infile.readlines()\n",
    "\n",
    "        with open(output_file, \"w\") as outfile:\n",
    "            for line in coordinates:\n",
    "                lat, lon = line.strip().split(\",\")\n",
    "                outfile.write(f\"Latitude: {lat}, Longitude: {lon}\\n\")\n",
    "\n",
    "        print(f\"Coordinates have been written to {output_file}\")\n",
    "    except FileNotFoundError:\n",
    "        print(f\"Error: The file {input_file} was not found.\")\n",
    "\n",
    "write_coordinates(in_file)\n"
   ]
  },
  {
   "cell_type": "markdown",
   "id": "9",
   "metadata": {},
   "source": [
    "## Exercise 5: Processing Coordinates from a File\n",
    "\n",
    "- Create a function that reads coordinates from a file and uses the `Point` class to create `Point` objects.\n",
    "- Calculate the distance between each consecutive pair of points and write the results to a new file.\n",
    "- Ensure the function handles file-related exceptions and gracefully handles improperly formatted lines."
   ]
  },
  {
   "cell_type": "code",
   "execution_count": 117,
   "id": "10",
   "metadata": {},
   "outputs": [
    {
     "name": "stdout",
     "output_type": "stream",
     "text": [
      "Sample file 'coordinates.txt' has been created successfully.\n"
     ]
    }
   ],
   "source": [
    "# Create a sample coordinates.txt file\n",
    "sample_data = \"\"\"35.6895,139.6917\n",
    "34.0522,-118.2437\n",
    "51.5074,-0.1278\n",
    "-33.8688,151.2093\n",
    "48.8566,2.3522\"\"\"\n",
    "\n",
    "output_file = \"coordinates.txt\"\n",
    "\n",
    "try:\n",
    "    with open(output_file, \"w\") as file:\n",
    "        file.write(sample_data)\n",
    "    print(f\"Sample file '{output_file}' has been created successfully.\")\n",
    "except Exception as e:\n",
    "    print(f\"An error occurred while creating the file: {e}\")"
   ]
  },
  {
   "cell_type": "code",
   "execution_count": 142,
   "id": "11",
   "metadata": {},
   "outputs": [],
   "source": [
    "def file_processor(input_file, output_file):\n",
    "    points = []\n",
    "    try:\n",
    "        with open(input_file, 'r') as infile:\n",
    "            for line in infile:\n",
    "                try:\n",
    "                    latitude, longitude = line.strip().split(\",\")\n",
    "                    latitude, longitude = float(latitude), float(longitude)\n",
    "                    point = Point(latitude, longitude)\n",
    "                    points.append(point)\n",
    "                except ValueError:\n",
    "                    print(f\"Error processing line: {line.strip()}.\")\n",
    "        print(\"Points have been created from the file.\")\n",
    "\n",
    "        if len(points)<2:\n",
    "            print('Not enough points to calculate distances.')\n",
    "\n",
    "        distances = []\n",
    "        for i in range(len(points)-1):\n",
    "            point1 = points[i]\n",
    "            point2 = points[i+1]\n",
    "            distance = point1.distance_to(point2)\n",
    "        \n",
    "        try:\n",
    "            with open(output_file, 'w') as outfile:\n",
    "                for distance in distances: \n",
    "                    outfile.write(distance + '\\n')\n",
    "            print(f'Distances succesfully written to {output_file}')\n",
    "        except IOError:\n",
    "            print(f\"Error: Could not write to {output_file}.\")\n",
    "\n",
    "    except FileNotFoundError:\n",
    "        print(f\"Error: The file {input_file} was not found.\")\n",
    "\n"
   ]
  },
  {
   "cell_type": "code",
   "execution_count": 143,
   "id": "7b9ac198",
   "metadata": {},
   "outputs": [
    {
     "name": "stdout",
     "output_type": "stream",
     "text": [
      "Points have been created from the file.\n",
      "Distances succesfully written to output_distances.txt\n"
     ]
    }
   ],
   "source": [
    "\n",
    "file_processor('coordinates.txt', 'output_distances.txt')\n"
   ]
  },
  {
   "cell_type": "markdown",
   "id": "12",
   "metadata": {},
   "source": [
    "## Exercise 6: Exception Handling in Data Processing\n",
    "\n",
    "- Modify the `batch_distance_calculation` function to handle exceptions that might occur during the calculation, such as invalid coordinates.\n",
    "- Ensure the function skips invalid data and continues processing the remaining data."
   ]
  },
  {
   "cell_type": "code",
   "execution_count": 145,
   "id": "13",
   "metadata": {},
   "outputs": [],
   "source": [
    "def batch_distance_calculation(coordinate_list):\n",
    "    distances=[]\n",
    "    for i in range(len(coordinate_list)-1):\n",
    "        try:\n",
    "            lat1, lon1 = coordinate_list[i]\n",
    "            lat2, lon2 = coordinate_list[i+1]\n",
    "            distance = calculate_distance(lat1, lon1, lat2, lon2)\n",
    "            distances.append(distance)\n",
    "        except ValueError:\n",
    "            print(f\"Error: Invalid coordinates at index {i} or {i + 1}\")\n",
    "        except Exception as e:\n",
    "            print(f\"Unexpected error at index {i}: {e}, skipping.\")\n",
    "\n",
    "    return distances\n",
    "\n",
    "    "
   ]
  },
  {
   "cell_type": "code",
   "execution_count": null,
   "id": "67305d4e",
   "metadata": {},
   "outputs": [],
   "source": []
  }
 ],
 "metadata": {
  "kernelspec": {
   "display_name": "Python 3",
   "language": "python",
   "name": "python3"
  },
  "language_info": {
   "codemirror_mode": {
    "name": "ipython",
    "version": 3
   },
   "file_extension": ".py",
   "mimetype": "text/x-python",
   "name": "python",
   "nbconvert_exporter": "python",
   "pygments_lexer": "ipython3",
   "version": "3.9.19"
  }
 },
 "nbformat": 4,
 "nbformat_minor": 5
}
