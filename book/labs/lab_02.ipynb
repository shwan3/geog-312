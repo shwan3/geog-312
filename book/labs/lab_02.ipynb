{
 "cells": [
  {
   "cell_type": "markdown",
   "id": "0",
   "metadata": {},
   "source": [
    "# Lab 2\n",
    "\n",
    "[![Open In Colab](https://colab.research.google.com/assets/colab-badge.svg)](https://colab.research.google.com/github/giswqs/geog-312/blob/main/book/labs/lab_02.ipynb)\n",
    "\n",
    "This notebook contains exercises based on the lectures on [**String Operations**](https://geog-312.gishub.org/book/python/04_string_operations.html) and [**Looping and Control Statements**](https://geog-312.gishub.org/book/python/05_looping.html). These exercises will help reinforce the concepts of string manipulation, loops, and conditionals in geospatial contexts."
   ]
  },
  {
   "cell_type": "markdown",
   "id": "1",
   "metadata": {},
   "source": [
    "## Exercise 1: Manipulating Geographic Location Strings\n",
    "\n",
    "- Create a string that represents the name of a geographic feature (e.g., `\"Amazon River\"`).\n",
    "- Convert the string to lowercase and then to uppercase.\n",
    "- Concatenate the string with the name of the country (e.g., `\"Brazil\"`) to create a full location name.\n",
    "- Repeat the string three times, separating each repetition with a dash (`-`)."
   ]
  },
  {
   "cell_type": "code",
   "execution_count": 2,
   "id": "2",
   "metadata": {},
   "outputs": [
    {
     "name": "stdout",
     "output_type": "stream",
     "text": [
      "amazon river\n",
      "Amazon River Brazil\n",
      "Amazon River-Amazon River-Amazon River\n"
     ]
    }
   ],
   "source": [
    "river = 'Amazon River'\n",
    "print(river.lower())\n",
    "\n",
    "country = 'Brazil'\n",
    "\n",
    "full_location = river+\" \"+country\n",
    "print(full_location)\n",
    "\n",
    "print(river +\"-\"+river+\"-\"+river)\n"
   ]
  },
  {
   "cell_type": "markdown",
   "id": "3",
   "metadata": {},
   "source": [
    "## Exercise 2: Extracting and Formatting Coordinates\n",
    "\n",
    "- Given a string with the format `\"latitude, longitude\"` (e.g., `\"40.7128N, 74.0060W\"`), extract the numeric values of latitude and longitude.\n",
    "- Convert these values to floats and remove the directional indicators (`N`, `S`, `E`, `W`).\n",
    "- Format the coordinates into a `POINT` WKT string (e.g., `\"POINT(-74.0060 40.7128)\"`)."
   ]
  },
  {
   "cell_type": "code",
   "execution_count": 3,
   "id": "4",
   "metadata": {},
   "outputs": [
    {
     "name": "stdout",
     "output_type": "stream",
     "text": [
      "POINT(40.7128, 74.006)\n",
      "POINT(40.7128, 74.006)\n"
     ]
    }
   ],
   "source": [
    "location_str = \"40.7128N, 74.0060W\" \n",
    "\n",
    "lat_str, lon_str = location_str.split(', ')\n",
    "\n",
    "latitude = float(lat_str[:-1])\n",
    "longitude = float(lon_str[:-1])\n",
    "\n",
    "print(\"POINT({}, {})\".format(latitude,longitude))\n",
    "print(f\"POINT({latitude}, {longitude})\")\n"
   ]
  },
  {
   "cell_type": "markdown",
   "id": "5",
   "metadata": {},
   "source": [
    "## Exercise 3: Building Dynamic SQL Queries\n",
    "\n",
    "- Given a table name and a condition, dynamically build an SQL query string.\n",
    "- Example: If `table_name = \"cities\"` and `condition = \"population > 1000000\"`, the query should be `\"SELECT * FROM cities WHERE population > 1000000;\"`.\n",
    "- Add additional conditions dynamically, like `AND` clauses."
   ]
  },
  {
   "cell_type": "code",
   "execution_count": 4,
   "id": "6",
   "metadata": {},
   "outputs": [
    {
     "name": "stdout",
     "output_type": "stream",
     "text": [
      "SELECT * FROM cities WHERE population > 1000000 AND avg income > 50000;\n"
     ]
    }
   ],
   "source": [
    "table_name = 'cities'\n",
    "condition = 'population > 1000000'\n",
    "condition2 = 'avg income > 50000'\n",
    "sql_query = f'SELECT * FROM {table_name} WHERE {condition} AND {condition2};'\n",
    "\n",
    "print(sql_query)"
   ]
  },
  {
   "cell_type": "markdown",
   "id": "7",
   "metadata": {},
   "source": [
    "## Exercise 4: String Normalization and Cleaning\n",
    "\n",
    "- Given a list of city names with inconsistent formatting (e.g., `[\" new york \", \"Los ANGELES\", \"   CHICAGO\"]`), normalize the names by:\n",
    "  - Stripping any leading or trailing whitespace.\n",
    "  - Converting them to title case (e.g., `\"New York\"`, `\"Los Angeles\"`, `\"Chicago\"`).\n",
    "- Ensure that the output is a clean list of city names."
   ]
  },
  {
   "cell_type": "code",
   "execution_count": 5,
   "id": "8",
   "metadata": {},
   "outputs": [
    {
     "name": "stdout",
     "output_type": "stream",
     "text": [
      "['New York', 'Los Angeles', 'Chicago']\n"
     ]
    }
   ],
   "source": [
    "cities = [\" new york \", \"Los ANGELES\", \"   CHICAGO\"]\n",
    "\n",
    "normalized_cities = [city.strip().title() for city in cities]\n",
    "print(normalized_cities)"
   ]
  },
  {
   "cell_type": "markdown",
   "id": "9",
   "metadata": {},
   "source": [
    "## Exercise 5: Parsing and Extracting Address Information\n",
    "\n",
    "- Given a string in the format `\"Street, City, Country\"` (e.g., `\"123 Main St, Springfield, USA\"`), write a function that parses the string into a dictionary with keys `street`, `city`, and `country`.\n",
    "- The function should return a dictionary like `{\"street\": \"123 Main St\", \"city\": \"Springfield\", \"country\": \"USA\"}`."
   ]
  },
  {
   "cell_type": "code",
   "execution_count": 6,
   "id": "10",
   "metadata": {},
   "outputs": [
    {
     "data": {
      "text/plain": [
       "{'street': '123 Main St', 'city': ' Springfield', 'country': ' USA'}"
      ]
     },
     "execution_count": 6,
     "metadata": {},
     "output_type": "execute_result"
    }
   ],
   "source": [
    "def parser(string):\n",
    "    street, city, country = string.split(',')\n",
    "    return {'street': street, 'city': city, 'country': country}\n",
    "\n",
    "address = \"123 Main St, Springfield, USA\"\n",
    "\n",
    "parser(address)\n"
   ]
  },
  {
   "cell_type": "markdown",
   "id": "11",
   "metadata": {},
   "source": [
    "## Exercise 6: Using For Loops to Process Coordinate Lists\n",
    "\n",
    "- Create a list of tuples representing coordinates (latitude, longitude).\n",
    "- Write a `for` loop that prints each coordinate and indicates whether it is in the Northern or Southern Hemisphere based on the latitude."
   ]
  },
  {
   "cell_type": "code",
   "execution_count": 7,
   "id": "12",
   "metadata": {},
   "outputs": [
    {
     "name": "stdout",
     "output_type": "stream",
     "text": [
      "(40.7128, -74.006) - Northern Hemisphere\n",
      "(34.0522, -118.2437) - Northern Hemisphere\n",
      "(41.8781, -87.6298) - Northern Hemisphere\n",
      "(29.7604, -95.3698) - Northern Hemisphere\n",
      "(33.4484, -112.074) - Northern Hemisphere\n",
      "(-33.9249, 18.4241) - Southern Hemisphere\n",
      "(-37.8136, 144.9631) - Southern Hemisphere\n"
     ]
    }
   ],
   "source": [
    "coordinates = [\n",
    "    (40.7128, -74.0060),\n",
    "    (34.0522, -118.2437),\n",
    "    (41.8781, -87.6298),\n",
    "    (29.7604, -95.3698),\n",
    "    (33.4484, -112.0740),\n",
    "    (-33.9249, 18.4241),\n",
    "    (-37.8136, 144.9631)\n",
    "]\n",
    "\n",
    "for point in coordinates:\n",
    "    if point[0] < 0:\n",
    "        print(f'{point} - Southern Hemisphere')\n",
    "    else:\n",
    "        print(f'{point} - Northern Hemisphere')"
   ]
  },
  {
   "cell_type": "markdown",
   "id": "13",
   "metadata": {},
   "source": [
    "## Exercise 7: While Loops for Iterative Processing\n",
    "\n",
    "- Create a list of coordinates (latitude, longitude).\n",
    "- Write a `while` loop that continues to print each coordinate until it encounters a coordinate with a negative latitude.\n",
    "- Stop the loop once this condition is met."
   ]
  },
  {
   "cell_type": "code",
   "execution_count": 8,
   "id": "14",
   "metadata": {},
   "outputs": [
    {
     "name": "stdout",
     "output_type": "stream",
     "text": [
      "(40.7128, -74.006)\n",
      "(34.0522, -118.2437)\n",
      "(41.8781, -87.6298)\n",
      "(29.7604, -95.3698)\n",
      "(33.4484, -112.074)\n"
     ]
    }
   ],
   "source": [
    "coordinates = [\n",
    "    (40.7128, -74.0060),\n",
    "    (34.0522, -118.2437),\n",
    "    (41.8781, -87.6298),\n",
    "    (29.7604, -95.3698),\n",
    "    (33.4484, -112.0740),\n",
    "    (-33.9249, 18.4241),\n",
    "    (-37.8136, 144.9631)\n",
    "]\n",
    "\n",
    "counter = 0\n",
    "while counter < len(coordinates):\n",
    "    lat, lon = coordinates[counter]\n",
    "    if lat > 0:\n",
    "        print(f\"({lat}, {lon})\")\n",
    "        counter += 1\n",
    "    else:\n",
    "        break"
   ]
  },
  {
   "cell_type": "markdown",
   "id": "15",
   "metadata": {},
   "source": [
    "## Exercise 8: Conditional Logic in Loops\n",
    "\n",
    "- Create a list of coordinates and use a `for` loop to iterate over them.\n",
    "- Use an `if-elif-else` statement inside the loop to classify each coordinate based on its longitude:\n",
    "  - Print `\"Eastern Hemisphere\"` if the longitude is greater than 0.\n",
    "  - Print `\"Western Hemisphere\"` if the longitude is less than 0."
   ]
  },
  {
   "cell_type": "code",
   "execution_count": 9,
   "id": "16",
   "metadata": {},
   "outputs": [
    {
     "name": "stdout",
     "output_type": "stream",
     "text": [
      "(40.7128, -74.006) Western Hemisphere\n",
      "(34.0522, -118.2437) Western Hemisphere\n",
      "(41.8781, -87.6298) Western Hemisphere\n",
      "(29.7604, -95.3698) Western Hemisphere\n",
      "(33.4484, -112.074) Western Hemisphere\n",
      "(-33.9249, 18.4241) Eastern Hemisphere\n",
      "(-37.8136, 144.9631) Eastern Hemisphere\n"
     ]
    }
   ],
   "source": [
    "coordinates = [\n",
    "    (40.7128, -74.0060),\n",
    "    (34.0522, -118.2437),\n",
    "    (41.8781, -87.6298),\n",
    "    (29.7604, -95.3698),\n",
    "    (33.4484, -112.0740),\n",
    "    (-33.9249, 18.4241),\n",
    "    (-37.8136, 144.9631)\n",
    "]\n",
    "\n",
    "for point in coordinates:\n",
    "    lat, lon = point\n",
    "    if lon > 0:\n",
    "        print(f\"{point} Eastern Hemisphere\")\n",
    "    else:\n",
    "        print(f\"{point} Western Hemisphere\") "
   ]
  },
  {
   "cell_type": "markdown",
   "id": "17",
   "metadata": {},
   "source": [
    "## Exercise 9: Filtering Data with Combined Loops and Conditionals\n",
    "\n",
    "- Given a list of coordinates, filter out and store only those located in the Southern Hemisphere (latitude < 0).\n",
    "- Count the number of coordinates that meet this condition and print the result."
   ]
  },
  {
   "cell_type": "code",
   "execution_count": 10,
   "id": "18",
   "metadata": {},
   "outputs": [
    {
     "name": "stdout",
     "output_type": "stream",
     "text": [
      "(-33.9249, 18.4241) is in the Southern Hemisphere\n",
      "(-37.8136, 144.9631) is in the Southern Hemisphere\n",
      "There are 2 coordinates in the Southern Hemisphere\n"
     ]
    }
   ],
   "source": [
    "coordinates = [\n",
    "    (40.7128, -74.0060),\n",
    "    (34.0522, -118.2437),\n",
    "    (41.8781, -87.6298),\n",
    "    (29.7604, -95.3698),\n",
    "    (33.4484, -112.0740),\n",
    "    (-33.9249, 18.4241),\n",
    "    (-37.8136, 144.9631)\n",
    "]\n",
    "\n",
    "count = 0\n",
    "for point in coordinates:\n",
    "    lat, lon = point\n",
    "    if lat < 0:\n",
    "        count += 1\n",
    "        print(f'{point} is in the Southern Hemisphere')\n",
    "\n",
    "print(f'There are {count} coordinates in the Southern Hemisphere')"
   ]
  },
  {
   "cell_type": "markdown",
   "id": "19",
   "metadata": {},
   "source": [
    "## Exercise 10: Generating and Analyzing Random Coordinates\n",
    "\n",
    "- Write a program that generates random coordinates (latitude between [-90, 90] degrees and longitude between [-180, 180] degrees).\n",
    "- Use a `while` loop to keep generating coordinates until a pair with both latitude and longitude greater than 50 is generated.\n",
    "- Print each generated coordinate and the final coordinate that meets the condition."
   ]
  },
  {
   "cell_type": "code",
   "execution_count": 11,
   "id": "20",
   "metadata": {},
   "outputs": [
    {
     "name": "stdout",
     "output_type": "stream",
     "text": [
      "-38.2731 -104.9093\n",
      "179.3988 33.0105\n",
      "43.3327 161.276\n",
      "68.7715 14.6766\n",
      "-91.3019 -53.866\n",
      "120.5191 28.5592\n",
      "-45.4194 -83.0915\n",
      "-31.4114 28.6153\n",
      "136.9291 120.5313\n"
     ]
    }
   ],
   "source": [
    "import random\n",
    "\n",
    "def coordinates_generator():\n",
    "    latitude = round(random.uniform(-180, 180),4)\n",
    "    longitude = round(random.uniform(-180, 180),4)\n",
    "    return latitude, longitude\n",
    "\n",
    "while True:\n",
    "    latitude, longitude = coordinates_generator()\n",
    "    if latitude > 100 and longitude >100:\n",
    "        print(latitude, longitude)\n",
    "        break\n",
    "    print(latitude, longitude)"
   ]
  },
  {
   "cell_type": "code",
   "execution_count": null,
   "id": "9a5b5064",
   "metadata": {},
   "outputs": [],
   "source": []
  }
 ],
 "metadata": {
  "kernelspec": {
   "display_name": "Python 3",
   "language": "python",
   "name": "python3"
  },
  "language_info": {
   "codemirror_mode": {
    "name": "ipython",
    "version": 3
   },
   "file_extension": ".py",
   "mimetype": "text/x-python",
   "name": "python",
   "nbconvert_exporter": "python",
   "pygments_lexer": "ipython3",
   "version": "3.9.19"
  }
 },
 "nbformat": 4,
 "nbformat_minor": 5
}
