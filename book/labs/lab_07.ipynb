{
 "cells": [
  {
   "cell_type": "markdown",
   "metadata": {},
   "source": [
    "# Lab 7\n",
    "\n",
    "[![Open In Colab](https://colab.research.google.com/assets/colab-badge.svg)](https://colab.research.google.com/github/giswqs/geog-312/blob/main/book/labs/lab_07.ipynb)\n",
    "\n",
    "## Overview\n",
    "\n",
    "In this lab, you will delve deeper into Leafmap, a powerful Python package for interactive geospatial mapping and analysis. You will explore how to work with various types of raster and vector data, customize basemaps and map layers, and visualize data using Cloud Optimized GeoTIFFs (COGs), PMTiles, GeoParquet, and other formats. You will also learn how to enhance your maps with advanced features like legends, colorbars, marker clusters, and split maps for comparison.\n",
    "\n",
    "## Objective\n",
    "\n",
    "* Create and customize interactive maps using Leafmap.\n",
    "* Add and configure basemaps, XYZ tile layers, and WMS layers.\n",
    "* Visualize various raster formats such as GeoTIFF, Cloud Optimized GeoTIFF (COG), and multi-band imagery.\n",
    "* Explore vector data visualization, including marker clusters and choropleth maps.\n",
    "* Implement advanced mapping features like legends, colorbars, and split map comparisons."
   ]
  },
  {
   "cell_type": "markdown",
   "metadata": {},
   "source": [
    "## Exercise 1: Creating an Interactive Map\n",
    "\n",
    "1. Create an interactive map with search functionality that allows users to search for places and zoom to them. Disable the draw control on the map."
   ]
  },
  {
   "cell_type": "code",
   "execution_count": 1,
   "metadata": {},
   "outputs": [],
   "source": [
    "import leafmap"
   ]
  },
  {
   "cell_type": "code",
   "execution_count": 2,
   "metadata": {},
   "outputs": [
    {
     "data": {
      "application/vnd.jupyter.widget-view+json": {
       "model_id": "fdc9e373d4de40929121dac311196cfe",
       "version_major": 2,
       "version_minor": 0
      },
      "text/plain": [
       "Map(center=[20, 0], controls=(ZoomControl(options=['position', 'zoom_in_text', 'zoom_in_title', 'zoom_out_text…"
      ]
     },
     "execution_count": 2,
     "metadata": {},
     "output_type": "execute_result"
    }
   ],
   "source": [
    "m = leafmap.Map(  \n",
    "    draw_control=False,\n",
    "  \n",
    "    \n",
    ")\n",
    "url = \"https://nominatim.openstreetmap.org/search?format=json&q={s}\"\n",
    "m.add_search_control(url, zoom=10, position=\"topleft\")\n",
    "\n",
    "m"
   ]
  },
  {
   "cell_type": "markdown",
   "metadata": {},
   "source": [
    "![image](https://github.com/user-attachments/assets/b930fb63-3bd1-4d7e-9bf8-87e6d398e5c3)"
   ]
  },
  {
   "cell_type": "markdown",
   "metadata": {},
   "source": [
    "## Exercise 2: Adding XYZ and WMS Tile Layers\n",
    "\n",
    "1. Add a custom XYZ tile layer ([USGS Topographic basemap](https://apps.nationalmap.gov/services)) using the following URL:\n",
    "   - URL: `https://basemap.nationalmap.gov/arcgis/rest/services/USGSTopo/MapServer/tile/{z}/{y}/{x}`\n",
    "2. Add two WMS layers to visualize NAIP imagery and NDVI using a USGS WMS service.\n",
    "   - URL: `https://imagery.nationalmap.gov/arcgis/services/USGSNAIPImagery/ImageServer/WMSServer?`\n",
    "   - Layer names: `USGSNAIPImagery:FalseColorComposite`, `USGSNAIPImagery:NDVI_Color`"
   ]
  },
  {
   "cell_type": "code",
   "execution_count": 3,
   "metadata": {},
   "outputs": [
    {
     "data": {
      "application/vnd.jupyter.widget-view+json": {
       "model_id": "d4a2d9d1bee948998c791245c69ba341",
       "version_major": 2,
       "version_minor": 0
      },
      "text/plain": [
       "Map(center=[20, 0], controls=(ZoomControl(options=['position', 'zoom_in_text', 'zoom_in_title', 'zoom_out_text…"
      ]
     },
     "execution_count": 3,
     "metadata": {},
     "output_type": "execute_result"
    }
   ],
   "source": [
    "m = leafmap.Map()\n",
    "m.add_tile_layer(\n",
    "    url=\"https://basemap.nationalmap.gov/arcgis/rest/services/USGSTopo/MapServer/tile/{z}/{y}/{x}\",\n",
    "    name=\"USGS Topographic basemap\",\n",
    "    attribution=\"USGS\",\n",
    ")\n",
    "m"
   ]
  },
  {
   "cell_type": "markdown",
   "metadata": {},
   "source": [
    "![image](https://github.com/user-attachments/assets/28dd8511-a0ac-4b44-ab02-9ed791817043)"
   ]
  },
  {
   "cell_type": "code",
   "execution_count": 4,
   "metadata": {},
   "outputs": [
    {
     "data": {
      "application/vnd.jupyter.widget-view+json": {
       "model_id": "6b1909be1b9d4803bdc572bd7496e628",
       "version_major": 2,
       "version_minor": 0
      },
      "text/plain": [
       "Map(center=[40, -100], controls=(ZoomControl(options=['position', 'zoom_in_text', 'zoom_in_title', 'zoom_out_t…"
      ]
     },
     "execution_count": 4,
     "metadata": {},
     "output_type": "execute_result"
    }
   ],
   "source": [
    "\n",
    "\n",
    "m = leafmap.Map(center=[40, -100], zoom=4)\n",
    "url = \"https://imagery.nationalmap.gov/arcgis/services/USGSNAIPImagery/ImageServer/WMSServer?\"\n",
    "m.add_wms_layer(\n",
    "    url=url,\n",
    "    layers='USGSNAIPImagery:FalseColorComposite',\n",
    "    name= 'NAIP NDVI',\n",
    "    attribution=\"USGS\",\n",
    "    format=\"image/png\",\n",
    "    shown=True,\n",
    ")\n",
    "m.add_wms_layer(\n",
    "    url=url,\n",
    "    layers='USGSNAIPImagery:NDVI_Color',\n",
    "    name='NAIP Imagery',\n",
    "    attribution=\"USGS\",\n",
    "    format=\"image/png\",\n",
    "    shown=True,\n",
    ")\n",
    "\n",
    "m\n"
   ]
  },
  {
   "cell_type": "markdown",
   "metadata": {},
   "source": [
    "![image](https://github.com/user-attachments/assets/719c1e07-f955-42d6-985c-b5842c9eac4c)"
   ]
  },
  {
   "cell_type": "markdown",
   "metadata": {},
   "source": [
    "## Exercise 3: Adding Map Legends\n",
    "\n",
    "1. Add the [ESA World Cover](https://esa-worldcover.org/en) WMS tile layer to the map.\n",
    "    - URL: `https://services.terrascope.be/wms/v2?`\n",
    "    - Layer name: `WORLDCOVER_2021_MAP`\n",
    "2. Add a legend to the map using the leafmap built-in `ESA_WorldCover` legend."
   ]
  },
  {
   "cell_type": "code",
   "execution_count": 5,
   "metadata": {},
   "outputs": [
    {
     "data": {
      "application/vnd.jupyter.widget-view+json": {
       "model_id": "631062df02614d2388dc8f514ff5318d",
       "version_major": 2,
       "version_minor": 0
      },
      "text/plain": [
       "Map(center=[20, 0], controls=(ZoomControl(options=['position', 'zoom_in_text', 'zoom_in_title', 'zoom_out_text…"
      ]
     },
     "execution_count": 5,
     "metadata": {},
     "output_type": "execute_result"
    }
   ],
   "source": [
    "m = leafmap.Map()\n",
    "m.add_basemap(\"Esri.WorldImagery\")\n",
    "url = \"https://services.terrascope.be/wms/v2?\"\n",
    "m.add_wms_layer(\n",
    "    url=url, \n",
    "    layers = 'WORLDCOVER_2021_MAP',\n",
    "    name = 'Esri World Cover',\n",
    "    attribution = \"Esri\",\n",
    "    format= 'image/png',\n",
    "    shown=True,\n",
    ")\n",
    "m.add_legend(title='ESA_WorldCover')\n",
    "m"
   ]
  },
  {
   "cell_type": "markdown",
   "metadata": {},
   "source": [
    "![image](https://github.com/user-attachments/assets/be5a9b07-4f6c-4245-9737-31db2df14f7f)"
   ]
  },
  {
   "cell_type": "markdown",
   "metadata": {},
   "source": [
    "## Exercise 4: Creating Marker Clusters\n",
    "\n",
    "1. Create a marker cluster visualization from a GeoJSON file of building centroids:\n",
    "    - URL: https://github.com/opengeos/datasets/releases/download/places/wa_building_centroids.geojson\n",
    "    - Hint: Read the GeoJSON file using GeoPandas and add \"latitude\" and \"longitude\" columns to the GeoDataFrame.\n",
    "2. Create circle markers for each building centroid using the `Map.add_circle_markers_from_xy()` method with the following styling:\n",
    "    * Radius: 5\n",
    "    * Outline color: \"red\"\n",
    "    * Fill color: \"yellow\"\n",
    "    * Fill opacity: 0.8"
   ]
  },
  {
   "cell_type": "code",
   "execution_count": 6,
   "metadata": {},
   "outputs": [],
   "source": [
    "import geopandas as gpd"
   ]
  },
  {
   "cell_type": "code",
   "execution_count": 7,
   "metadata": {},
   "outputs": [
    {
     "data": {
      "text/html": [
       "<div>\n",
       "<style scoped>\n",
       "    .dataframe tbody tr th:only-of-type {\n",
       "        vertical-align: middle;\n",
       "    }\n",
       "\n",
       "    .dataframe tbody tr th {\n",
       "        vertical-align: top;\n",
       "    }\n",
       "\n",
       "    .dataframe thead th {\n",
       "        text-align: right;\n",
       "    }\n",
       "</style>\n",
       "<table border=\"1\" class=\"dataframe\">\n",
       "  <thead>\n",
       "    <tr style=\"text-align: right;\">\n",
       "      <th></th>\n",
       "      <th>Class</th>\n",
       "      <th>Confidence</th>\n",
       "      <th>Shape_Leng</th>\n",
       "      <th>Shape_Area</th>\n",
       "      <th>geometry</th>\n",
       "      <th>longitude</th>\n",
       "      <th>latitude</th>\n",
       "    </tr>\n",
       "  </thead>\n",
       "  <tbody>\n",
       "    <tr>\n",
       "      <th>0</th>\n",
       "      <td>1</td>\n",
       "      <td>28.905460</td>\n",
       "      <td>68.457069</td>\n",
       "      <td>292.568026</td>\n",
       "      <td>POINT (-117.60109 47.65499)</td>\n",
       "      <td>-117.601092</td>\n",
       "      <td>47.654993</td>\n",
       "    </tr>\n",
       "    <tr>\n",
       "      <th>1</th>\n",
       "      <td>1</td>\n",
       "      <td>99.420196</td>\n",
       "      <td>97.152785</td>\n",
       "      <td>556.702899</td>\n",
       "      <td>POINT (-117.59953 47.65533)</td>\n",
       "      <td>-117.599525</td>\n",
       "      <td>47.655326</td>\n",
       "    </tr>\n",
       "    <tr>\n",
       "      <th>2</th>\n",
       "      <td>1</td>\n",
       "      <td>95.450807</td>\n",
       "      <td>90.916993</td>\n",
       "      <td>492.940128</td>\n",
       "      <td>POINT (-117.59991 47.65514)</td>\n",
       "      <td>-117.599910</td>\n",
       "      <td>47.655143</td>\n",
       "    </tr>\n",
       "    <tr>\n",
       "      <th>3</th>\n",
       "      <td>1</td>\n",
       "      <td>91.446453</td>\n",
       "      <td>85.645123</td>\n",
       "      <td>453.842109</td>\n",
       "      <td>POINT (-117.59953 47.65575)</td>\n",
       "      <td>-117.599532</td>\n",
       "      <td>47.655747</td>\n",
       "    </tr>\n",
       "    <tr>\n",
       "      <th>4</th>\n",
       "      <td>1</td>\n",
       "      <td>90.172392</td>\n",
       "      <td>78.057638</td>\n",
       "      <td>380.403649</td>\n",
       "      <td>POINT (-117.59989 47.65534)</td>\n",
       "      <td>-117.599892</td>\n",
       "      <td>47.655336</td>\n",
       "    </tr>\n",
       "  </tbody>\n",
       "</table>\n",
       "</div>"
      ],
      "text/plain": [
       "  Class  Confidence  Shape_Leng  Shape_Area                     geometry  \\\n",
       "0     1   28.905460   68.457069  292.568026  POINT (-117.60109 47.65499)   \n",
       "1     1   99.420196   97.152785  556.702899  POINT (-117.59953 47.65533)   \n",
       "2     1   95.450807   90.916993  492.940128  POINT (-117.59991 47.65514)   \n",
       "3     1   91.446453   85.645123  453.842109  POINT (-117.59953 47.65575)   \n",
       "4     1   90.172392   78.057638  380.403649  POINT (-117.59989 47.65534)   \n",
       "\n",
       "    longitude   latitude  \n",
       "0 -117.601092  47.654993  \n",
       "1 -117.599525  47.655326  \n",
       "2 -117.599910  47.655143  \n",
       "3 -117.599532  47.655747  \n",
       "4 -117.599892  47.655336  "
      ]
     },
     "execution_count": 7,
     "metadata": {},
     "output_type": "execute_result"
    }
   ],
   "source": [
    "url='https://github.com/opengeos/datasets/releases/download/places/wa_building_centroids.geojson'\n",
    "\n",
    "data = gpd.read_file(url)\n",
    "data['longitude'] = data.geometry.x\n",
    "data['latitude'] = data.geometry.y\n",
    "data.head()"
   ]
  },
  {
   "cell_type": "code",
   "execution_count": 8,
   "metadata": {},
   "outputs": [
    {
     "data": {
      "application/vnd.jupyter.widget-view+json": {
       "model_id": "cfd9cf29de544a00ac0d6fdc6e9dd0c9",
       "version_major": 2,
       "version_minor": 0
      },
      "text/plain": [
       "Map(center=[47.65477934238862, -117.59800493717195], controls=(ZoomControl(options=['position', 'zoom_in_text'…"
      ]
     },
     "execution_count": 8,
     "metadata": {},
     "output_type": "execute_result"
    }
   ],
   "source": [
    "m= leafmap.Map(center = [47.65477934238862, -117.59800493717195], zoom = 17)\n",
    "url='https://github.com/opengeos/datasets/releases/download/places/wa_building_centroids.geojson'\n",
    "m.add_basemap('Google Satellite')\n",
    "\n",
    "m.add_marker_cluster(data, x='longitude', y='latitude', layer_name='points')\n",
    "m"
   ]
  },
  {
   "cell_type": "markdown",
   "metadata": {},
   "source": [
    "![image](https://github.com/user-attachments/assets/d60cbfc7-b8c9-4cab-8852-bc34e82fd665)"
   ]
  },
  {
   "cell_type": "code",
   "execution_count": 9,
   "metadata": {},
   "outputs": [
    {
     "data": {
      "application/vnd.jupyter.widget-view+json": {
       "model_id": "a1565d5bd3f946e58b1081a529f5552d",
       "version_major": 2,
       "version_minor": 0
      },
      "text/plain": [
       "Map(center=[47.65477934238862, -117.59800493717195], controls=(ZoomControl(options=['position', 'zoom_in_text'…"
      ]
     },
     "execution_count": 9,
     "metadata": {},
     "output_type": "execute_result"
    }
   ],
   "source": [
    " m= leafmap.Map(center = [47.65477934238862, -117.59800493717195], zoom = 17)\n",
    "url='https://github.com/opengeos/datasets/releases/download/places/wa_building_centroids.geojson'\n",
    "m.add_basemap('Google Satellite')\n",
    "m.add_circle_markers_from_xy(\n",
    "   data,\n",
    "   x='longitude', \n",
    "   y='latitude', \n",
    "   layer_name='points', \n",
    "   radius = 5,\n",
    "   color = \"red\", \n",
    "   fill_color = \"yellow\",\n",
    "   fill_opacity = .8   )\n",
    "m\n",
    " "
   ]
  },
  {
   "cell_type": "markdown",
   "metadata": {},
   "source": [
    "![image](https://github.com/user-attachments/assets/637e00ae-89af-495e-84b4-e668e16cce88)"
   ]
  },
  {
   "cell_type": "markdown",
   "metadata": {},
   "source": [
    "## Exercise 5: Visualizing Vector Data\n",
    "\n",
    "1. Visualize the building polygons GeoJSON file and style it with:\n",
    "    * Outline color: \"red\"\n",
    "    * No fill color\n",
    "    * URL: https://github.com/opengeos/datasets/releases/download/places/wa_overture_buildings.geojson\n",
    "  \n",
    "2. Visualize the road polylines GeoJSON file and style it with:\n",
    "    * Line color: \"red\"\n",
    "    * Line width: 2\n",
    "    * URL: https://github.com/opengeos/datasets/releases/download/places/las_vegas_roads.geojson\n",
    "\n",
    "3. Create a choropleth map of county areas in the US:\n",
    "    * URL: https://github.com/opengeos/datasets/releases/download/us/us_counties.geojson\n",
    "    * Column: `CENSUSAREA`\n"
   ]
  },
  {
   "cell_type": "code",
   "execution_count": 10,
   "metadata": {},
   "outputs": [
    {
     "data": {
      "application/vnd.jupyter.widget-view+json": {
       "model_id": "31f7230a01b74cd29c80cf3a5375c8f0",
       "version_major": 2,
       "version_minor": 0
      },
      "text/plain": [
       "Map(center=[47.65198245654363, -117.59870767593384], controls=(ZoomControl(options=['position', 'zoom_in_text'…"
      ]
     },
     "execution_count": 10,
     "metadata": {},
     "output_type": "execute_result"
    }
   ],
   "source": [
    "data = 'https://github.com/opengeos/datasets/releases/download/places/wa_overture_buildings.geojson'\n",
    "m= leafmap.Map(center = [47.65198245654363, -117.59870767593384], zoom = 17)\n",
    "m.add_vector(\n",
    "    data,\n",
    "    layer_name=\"Buildings\",\n",
    "    info_mode='on_hover',\n",
    "    style={\"color\": \"red\", \"fillOpacity\": 0, 'weight': 2}    \n",
    ")\n",
    "m.add_basemap(\"Google Satellite\")\n",
    "m"
   ]
  },
  {
   "cell_type": "markdown",
   "metadata": {},
   "source": [
    "![image](https://github.com/user-attachments/assets/069eb704-c409-44ee-af9e-7582d1ab23a5)"
   ]
  },
  {
   "cell_type": "code",
   "execution_count": 11,
   "metadata": {},
   "outputs": [
    {
     "data": {
      "application/vnd.jupyter.widget-view+json": {
       "model_id": "6a33e8dc0b6b4317b43ff1712e559299",
       "version_major": 2,
       "version_minor": 0
      },
      "text/plain": [
       "Map(center=[36.12102890786807, -115.20368814468385], controls=(ZoomControl(options=['position', 'zoom_in_text'…"
      ]
     },
     "execution_count": 11,
     "metadata": {},
     "output_type": "execute_result"
    }
   ],
   "source": [
    "data = 'https://github.com/opengeos/datasets/releases/download/places/las_vegas_roads.geojson'\n",
    "m= leafmap.Map(center = [36.12102890786807, -115.20368814468385], zoom = 16)\n",
    "m.add_vector(\n",
    "    data,\n",
    "    layer_name=\"Roads\",\n",
    "    info_mode='on_hover',\n",
    "    style={\"color\": \"red\", \"fillOpacity\": 0, 'weight': 2}    \n",
    ")\n",
    "m.add_basemap(\"Google Satellite\")\n",
    "m"
   ]
  },
  {
   "cell_type": "markdown",
   "metadata": {},
   "source": [
    "![image](https://github.com/user-attachments/assets/f28d19a6-4f60-484c-b2f7-c1ecce7ecb26)"
   ]
  },
  {
   "cell_type": "code",
   "execution_count": 12,
   "metadata": {},
   "outputs": [
    {
     "data": {
      "application/vnd.jupyter.widget-view+json": {
       "model_id": "625b85e390934dd398cd4d0c843766d1",
       "version_major": 2,
       "version_minor": 0
      },
      "text/plain": [
       "Map(center=[37.92686760148135, -96.59179687500001], controls=(ZoomControl(options=['position', 'zoom_in_text',…"
      ]
     },
     "execution_count": 12,
     "metadata": {},
     "output_type": "execute_result"
    }
   ],
   "source": [
    "\n",
    "m= leafmap.Map(center = [37.92686760148135, -96.59179687500001], zoom =4 )\n",
    "data = \" https://github.com/opengeos/datasets/releases/download/us/us_counties.geojson\"\n",
    "m.add_data(\n",
    "    data, \n",
    "    column = 'CENSUSAREA', \n",
    "    cmap= 'Blues', \n",
    "    legend_title= \"Census Area\"\n",
    "\n",
    ")\n",
    "m"
   ]
  },
  {
   "cell_type": "markdown",
   "metadata": {},
   "source": [
    "![image](https://github.com/user-attachments/assets/3aa9f54f-64d7-4788-89f1-f3ab88c1aa2e)"
   ]
  },
  {
   "cell_type": "markdown",
   "metadata": {},
   "source": [
    "## Exercise 6: Visualizing GeoParquet Data\n",
    "\n",
    "1. Visualize GeoParquet data of US states:\n",
    "\n",
    "    - URL: https://github.com/opengeos/datasets/releases/download/us/us_states.parquet\n",
    "    - Style: Outline color of \"red\" with no fill."
   ]
  },
  {
   "cell_type": "code",
   "execution_count": 13,
   "metadata": {},
   "outputs": [
    {
     "name": "stdout",
     "output_type": "stream",
     "text": [
      "us_state.parquet already exists. Skip downloading. Set overwrite=True to overwrite.\n"
     ]
    },
    {
     "data": {
      "text/plain": [
       "'/Users/shawnclark/Desktop/geog-312/geog-312/book/labs/us_state.parquet'"
      ]
     },
     "execution_count": 13,
     "metadata": {},
     "output_type": "execute_result"
    }
   ],
   "source": [
    "url = 'https://github.com/opengeos/datasets/releases/download/us/us_states.parquet'\n",
    "filename = 'us_state.parquet'\n",
    "leafmap.download_file(url,filename, quiet = True)"
   ]
  },
  {
   "cell_type": "code",
   "execution_count": 14,
   "metadata": {},
   "outputs": [
    {
     "data": {
      "text/html": [
       "<div>\n",
       "<style scoped>\n",
       "    .dataframe tbody tr th:only-of-type {\n",
       "        vertical-align: middle;\n",
       "    }\n",
       "\n",
       "    .dataframe tbody tr th {\n",
       "        vertical-align: top;\n",
       "    }\n",
       "\n",
       "    .dataframe thead th {\n",
       "        text-align: right;\n",
       "    }\n",
       "</style>\n",
       "<table border=\"1\" class=\"dataframe\">\n",
       "  <thead>\n",
       "    <tr style=\"text-align: right;\">\n",
       "      <th></th>\n",
       "      <th>id</th>\n",
       "      <th>name</th>\n",
       "      <th>geometry</th>\n",
       "    </tr>\n",
       "  </thead>\n",
       "  <tbody>\n",
       "    <tr>\n",
       "      <th>0</th>\n",
       "      <td>AL</td>\n",
       "      <td>Alabama</td>\n",
       "      <td>POLYGON ((-87.35930 35.00118, -85.60667 34.984...</td>\n",
       "    </tr>\n",
       "    <tr>\n",
       "      <th>1</th>\n",
       "      <td>AK</td>\n",
       "      <td>Alaska</td>\n",
       "      <td>MULTIPOLYGON (((-131.60202 55.11798, -131.5691...</td>\n",
       "    </tr>\n",
       "    <tr>\n",
       "      <th>2</th>\n",
       "      <td>AZ</td>\n",
       "      <td>Arizona</td>\n",
       "      <td>POLYGON ((-109.04250 37.00026, -109.04798 31.3...</td>\n",
       "    </tr>\n",
       "    <tr>\n",
       "      <th>3</th>\n",
       "      <td>AR</td>\n",
       "      <td>Arkansas</td>\n",
       "      <td>POLYGON ((-94.47384 36.50186, -90.15254 36.496...</td>\n",
       "    </tr>\n",
       "    <tr>\n",
       "      <th>4</th>\n",
       "      <td>CA</td>\n",
       "      <td>California</td>\n",
       "      <td>POLYGON ((-123.23326 42.00619, -122.37885 42.0...</td>\n",
       "    </tr>\n",
       "  </tbody>\n",
       "</table>\n",
       "</div>"
      ],
      "text/plain": [
       "   id        name                                           geometry\n",
       "0  AL     Alabama  POLYGON ((-87.35930 35.00118, -85.60667 34.984...\n",
       "1  AK      Alaska  MULTIPOLYGON (((-131.60202 55.11798, -131.5691...\n",
       "2  AZ     Arizona  POLYGON ((-109.04250 37.00026, -109.04798 31.3...\n",
       "3  AR    Arkansas  POLYGON ((-94.47384 36.50186, -90.15254 36.496...\n",
       "4  CA  California  POLYGON ((-123.23326 42.00619, -122.37885 42.0..."
      ]
     },
     "execution_count": 14,
     "metadata": {},
     "output_type": "execute_result"
    }
   ],
   "source": [
    "states = gpd.read_parquet(filename)\n",
    "states.head()"
   ]
  },
  {
   "cell_type": "code",
   "execution_count": 24,
   "metadata": {},
   "outputs": [
    {
     "data": {
      "application/vnd.jupyter.widget-view+json": {
       "model_id": "c59bdf5411294d9b857f133c165a068d",
       "version_major": 2,
       "version_minor": 0
      },
      "text/plain": [
       "Map(center=[37.92686760148135, -96.59179687500001], controls=(ZoomControl(options=['position', 'zoom_in_text',…"
      ]
     },
     "execution_count": 24,
     "metadata": {},
     "output_type": "execute_result"
    }
   ],
   "source": [
    "m = leafmap.Map(center = [37.92686760148135, -96.59179687500001], zoom =4 )\n",
    "m.add_data(states, column=\"name\", add_legend=False,  style={\"color\": \"red\", \"fillOpacity\": 0, 'weight': 2}  ) \n",
    "m"
   ]
  },
  {
   "cell_type": "markdown",
   "metadata": {},
   "source": [
    "![image](https://github.com/user-attachments/assets/b6d9ec09-035b-4df7-8ab7-a7b4588f1e71)"
   ]
  },
  {
   "cell_type": "markdown",
   "metadata": {},
   "source": [
    "## Exercise 7: Visualizing PMTiles\n",
    "\n",
    "1. Visualize the Overture Maps building dataset using PMTiles:\n",
    "    * URL: https://overturemaps-tiles-us-west-2-beta.s3.amazonaws.com/2024-09-18/buildings.pmtiles\n",
    "    * Style: Blue fill with 0.4 opacity, red outline."
   ]
  },
  {
   "cell_type": "code",
   "execution_count": null,
   "metadata": {},
   "outputs": [],
   "source": [
    "m = leafmap.Map()\n",
    "\n",
    "data = \"https://overturemaps-tiles-us-west-2-beta.s3.amazonaws.com/2024-09-18/buildings.pmtiles\"\n",
    "\n",
    "style = {\n",
    "    \"version\": 8,\n",
    "    \"sources\": {\n",
    "        \"example_source\": {\n",
    "            \"type\": \"vector\",\n",
    "            \"url\": \"pmtiles://\" + data,\n",
    "            \"attribution\": \"PMTiles\",\n",
    "        }\n",
    "    },\n",
    "    \"layers\": [\n",
    "        {\n",
    "            \"id\": \"buildings\",\n",
    "            \"source\": \"example_source\",\n",
    "            \"source-layer\": \"buildings\",  # Adjust based on metadata\n",
    "            \"type\": \"fill\",\n",
    "            \"paint\": {\"fill-color\": \"blue\", \"fill-opacity\": 0.4},\n",
    "        }\n",
    "    ],\n",
    "}\n",
    "\n",
    "m.add_pmtiles(\n",
    "    data,\n",
    "    name=\"Buildings\",\n",
    "    style=style,\n",
    "    overlay=True,\n",
    "    show=True,\n",
    "    zoom_to_layer=True,\n",
    ")\n",
    "\n",
    "\n",
    "m"
   ]
  },
  {
   "cell_type": "markdown",
   "metadata": {},
   "source": [
    "![image](https://github.com/user-attachments/assets/4ee08461-c962-4c37-8979-7105f588842a)"
   ]
  },
  {
   "cell_type": "markdown",
   "metadata": {},
   "source": [
    "## Exercise 8: Visualizing Cloud Optimized GeoTIFFs (COGs)\n",
    "\n",
    "1. Visualize Digital Elevation Model (DEM) data using the following COG file:\n",
    "    - URL: https://github.com/opengeos/datasets/releases/download/raster/dem.tif\n",
    "    - Apply a terrain colormap to show elevation values."
   ]
  },
  {
   "cell_type": "code",
   "execution_count": 54,
   "metadata": {},
   "outputs": [
    {
     "data": {
      "application/vnd.jupyter.widget-view+json": {
       "model_id": "d504bd72e24a4423aebb06346c7d1f27",
       "version_major": 2,
       "version_minor": 0
      },
      "text/plain": [
       "Map(center=[44.398368500000004, -122.7514095], controls=(ZoomControl(options=['position', 'zoom_in_text', 'zoo…"
      ]
     },
     "execution_count": 54,
     "metadata": {},
     "output_type": "execute_result"
    }
   ],
   "source": [
    "m = leafmap.Map(center =[44.3768766587829, -122.81066894531251], zoom =11)\n",
    "m.add_basemap('Google Satellite')\n",
    "\n",
    "url = \"https://github.com/opengeos/datasets/releases/download/raster/dem.tif\"\n",
    "\n",
    "m.add_raster(url, colormap= \"terrain\" )\n",
    "\n",
    "m"
   ]
  },
  {
   "cell_type": "markdown",
   "metadata": {},
   "source": [
    "![image](https://github.com/user-attachments/assets/21e1f7dd-466e-4880-94a5-0365bf1495dc)"
   ]
  },
  {
   "cell_type": "markdown",
   "metadata": {},
   "source": [
    "## Exercise 9: Visualizing Local Raster Data\n",
    "\n",
    "1. Visualize the following raster datasets using the Map.add_raster() method:\n",
    "\n",
    "    * Aerial Imagery: https://github.com/opengeos/datasets/releases/download/places/wa_building_image.tif\n",
    "    * Building Footprints: https://github.com/opengeos/datasets/releases/download/places/wa_building_masks.tif (use the \"tab20\" colormap and opacity of 0.7)"
   ]
  },
  {
   "cell_type": "code",
   "execution_count": 71,
   "metadata": {},
   "outputs": [
    {
     "data": {
      "text/plain": [
       "'/Users/shawnclark/Desktop/geog-312/geog-312/book/labs/building_footprints.tif'"
      ]
     },
     "execution_count": 71,
     "metadata": {},
     "output_type": "execute_result"
    }
   ],
   "source": [
    "image_url = \"https://github.com/opengeos/datasets/releases/download/places/wa_building_image.tif\" \n",
    "image_filename = 'building_image.tif'\n",
    "leafmap.download_file(image_url, image_filename, quiet=\"True\", overwrite=True)\n",
    "\n",
    "url = \"https://github.com/opengeos/datasets/releases/download/places/wa_building_masks.tif\" \n",
    "filename = 'building_footprints.tif'\n",
    "leafmap.download_file(url, filename, quiet=\"True\", overwrite=True)"
   ]
  },
  {
   "cell_type": "code",
   "execution_count": 77,
   "metadata": {},
   "outputs": [
    {
     "data": {
      "application/vnd.jupyter.widget-view+json": {
       "model_id": "9f14e0c1abc648f2b9f58ac60cd3a80d",
       "version_major": 2,
       "version_minor": 0
      },
      "text/plain": [
       "Map(center=[47.65315, -117.59825000000001], controls=(ZoomControl(options=['position', 'zoom_in_text', 'zoom_i…"
      ]
     },
     "execution_count": 77,
     "metadata": {},
     "output_type": "execute_result"
    }
   ],
   "source": [
    "m = leafmap.Map()\n",
    "m.add_basemap('Google Satellite')\n",
    "\n",
    "m.add_raster(image_filename, layer_name=\"Building Image\")\n",
    "\n",
    "m.add_raster(filename, layer_name=\"Building Footprints\", colormap=\"tab20\",\n",
    "    opacity=0.7, nodata=0 )\n",
    "m"
   ]
  },
  {
   "cell_type": "markdown",
   "metadata": {},
   "source": [
    "![image](https://github.com/user-attachments/assets/faf7c345-6a3f-4ca0-8eca-7417e6568867)"
   ]
  },
  {
   "cell_type": "markdown",
   "metadata": {},
   "source": [
    "## Exercise 10: Creating a Split Map\n",
    "\n",
    "1. Create a split map to compare imagery of Libya before and after the 2023 flood event:\n",
    "\n",
    "    * Pre-event imagery: https://github.com/opengeos/datasets/releases/download/raster/Libya-2023-07-01.tif\n",
    "    * Post-event imagery: https://github.com/opengeos/datasets/releases/download/raster/Libya-2023-09-13.tif"
   ]
  },
  {
   "cell_type": "code",
   "execution_count": 78,
   "metadata": {},
   "outputs": [
    {
     "data": {
      "application/vnd.jupyter.widget-view+json": {
       "model_id": "e29bc7161ac2478490fc45ca069d845e",
       "version_major": 2,
       "version_minor": 0
      },
      "text/plain": [
       "Map(center=[20, 0], controls=(ZoomControl(options=['position', 'zoom_in_text', 'zoom_in_title', 'zoom_out_text…"
      ]
     },
     "execution_count": 78,
     "metadata": {},
     "output_type": "execute_result"
    }
   ],
   "source": [
    "left_url = 'https://github.com/opengeos/datasets/releases/download/raster/Libya-2023-07-01.tif'\n",
    "right_url = 'https://github.com/opengeos/datasets/releases/download/raster/Libya-2023-09-13.tif'\n",
    "\n",
    "m = leafmap.Map()\n",
    "m.split_map(\n",
    "    left_layer=left_url, right_layer=right_url, left_label=\"Pre-event\", right_label=\"Post-event\"\n",
    ")\n",
    "m"
   ]
  },
  {
   "cell_type": "markdown",
   "metadata": {},
   "source": [
    "![image](https://github.com/user-attachments/assets/8cab4f1c-2dba-4652-a644-3ce6be4bbbd2)"
   ]
  }
 ],
 "metadata": {
  "kernelspec": {
   "display_name": "geo",
   "language": "python",
   "name": "python3"
  },
  "language_info": {
   "codemirror_mode": {
    "name": "ipython",
    "version": 3
   },
   "file_extension": ".py",
   "mimetype": "text/x-python",
   "name": "python",
   "nbconvert_exporter": "python",
   "pygments_lexer": "ipython3",
   "version": "3.12.2"
  }
 },
 "nbformat": 4,
 "nbformat_minor": 2
}
